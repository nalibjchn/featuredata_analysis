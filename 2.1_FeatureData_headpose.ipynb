{
 "cells": [
  {
   "cell_type": "markdown",
   "metadata": {},
   "source": [
    "## Setup environment"
   ]
  },
  {
   "cell_type": "code",
   "execution_count": 3,
   "metadata": {},
   "outputs": [
    {
     "name": "stdout",
     "output_type": "stream",
     "text": [
      "[sudo] password for nali: \n"
     ]
    }
   ],
   "source": [
    "!sudo apt-get install libopencv-dev python-opencv"
   ]
  },
  {
   "cell_type": "code",
   "execution_count": 2,
   "metadata": {},
   "outputs": [
    {
     "name": "stdout",
     "output_type": "stream",
     "text": [
      "fatal: destination path 'dlib' already exists and is not an empty directory.\n"
     ]
    }
   ],
   "source": [
    "!git clone https://github.com/davisking/dlib.git"
   ]
  },
  {
   "cell_type": "markdown",
   "metadata": {},
   "source": [
    "toward into \"dlib\" folder"
   ]
  },
  {
   "cell_type": "code",
   "execution_count": 30,
   "metadata": {},
   "outputs": [
    {
     "name": "stdout",
     "output_type": "stream",
     "text": [
      "/home/nali/Develop/HRI/dlib\n"
     ]
    }
   ],
   "source": [
    "cd .."
   ]
  },
  {
   "cell_type": "code",
   "execution_count": 32,
   "metadata": {},
   "outputs": [
    {
     "name": "stdout",
     "output_type": "stream",
     "text": [
      "running install\n",
      "/home/nali/.local/lib/python3.8/site-packages/setuptools/command/install.py:34: SetuptoolsDeprecationWarning: setup.py install is deprecated. Use build and pip and other standards-based tools.\n",
      "  warnings.warn(\n",
      "/home/nali/.local/lib/python3.8/site-packages/setuptools/command/easy_install.py:156: EasyInstallDeprecationWarning: easy_install command is deprecated. Use build and pip and other standards-based tools.\n",
      "  warnings.warn(\n",
      "error: can't create or remove files in install directory\n",
      "\n",
      "The following error occurred while trying to add or remove files in the\n",
      "installation directory:\n",
      "\n",
      "    [Errno 13] Permission denied: '/usr/lib/python3.8/site-packages'\n",
      "\n",
      "The installation directory you specified (via --install-dir, --prefix, or\n",
      "the distutils default setting) was:\n",
      "\n",
      "    /usr/lib/python3.8/site-packages/\n",
      "\n",
      "This directory does not currently exist.  Please create it and try again, or\n",
      "choose a different installation directory (using the -d or --install-dir\n",
      "option).\n",
      "\n"
     ]
    }
   ],
   "source": [
    "!python3.7 setup.py install"
   ]
  },
  {
   "cell_type": "code",
   "execution_count": 3,
   "metadata": {},
   "outputs": [
    {
     "name": "stdout",
     "output_type": "stream",
     "text": [
      "/home/nali/Develop/HRI/dlib\n"
     ]
    }
   ],
   "source": [
    "cd dlib"
   ]
  },
  {
   "cell_type": "code",
   "execution_count": 4,
   "metadata": {
    "scrolled": true
   },
   "outputs": [
    {
     "name": "stdout",
     "output_type": "stream",
     "text": [
      "fatal: destination path 'deepgaze' already exists and is not an empty directory.\n"
     ]
    }
   ],
   "source": [
    "!git clone https://github.com/mpatacchiola/deepgaze.git"
   ]
  },
  {
   "cell_type": "code",
   "execution_count": 5,
   "metadata": {},
   "outputs": [
    {
     "name": "stdout",
     "output_type": "stream",
     "text": [
      "/home/nali/Develop/HRI/dlib/deepgaze\n"
     ]
    }
   ],
   "source": [
    "cd deepgaze"
   ]
  },
  {
   "cell_type": "code",
   "execution_count": 6,
   "metadata": {},
   "outputs": [
    {
     "name": "stdout",
     "output_type": "stream",
     "text": [
      "M\tdeepgaze/cnn_head_pose_estimator.py\n",
      "M\tdeepgaze/head_pose_estimation.py\n",
      "Already on '2.0'\n",
      "Your branch is up to date with 'origin/2.0'.\n"
     ]
    }
   ],
   "source": [
    "!git checkout 2.0"
   ]
  },
  {
   "cell_type": "code",
   "execution_count": 7,
   "metadata": {},
   "outputs": [
    {
     "name": "stdout",
     "output_type": "stream",
     "text": [
      "/usr/lib/python3.7/distutils/dist.py:274: UserWarning: Unknown distribution option: 'include_package_data'\n",
      "  warnings.warn(msg)\n",
      "running install\n",
      "running build\n",
      "running build_py\n",
      "copying deepgaze/head_pose_estimation.py -> build/lib/deepgaze\n",
      "copying deepgaze/cnn_head_pose_estimator.py -> build/lib/deepgaze\n",
      "running install_lib\n",
      "creating /usr/lib/python3.7/site-packages\n",
      "error: could not create '/usr/lib/python3.7/site-packages': Permission denied\n"
     ]
    }
   ],
   "source": [
    "!python3.7 setup.py install"
   ]
  },
  {
   "cell_type": "code",
   "execution_count": 11,
   "metadata": {},
   "outputs": [
    {
     "name": "stdout",
     "output_type": "stream",
     "text": [
      "/usr/lib/python2.7/distutils/dist.py:267: UserWarning: Unknown distribution option: 'include_package_data'\n",
      "  warnings.warn(msg)\n",
      "running install\n",
      "running build\n",
      "running build_py\n",
      "running install_lib\n",
      "creating /usr/local/lib/python2.7/dist-packages/deepgaze\n",
      "error: could not create '/usr/local/lib/python2.7/dist-packages/deepgaze': Permission denied\n"
     ]
    }
   ],
   "source": [
    "!python3 setup.py install --record record.txt"
   ]
  },
  {
   "cell_type": "code",
   "execution_count": 4,
   "metadata": {},
   "outputs": [
    {
     "name": "stdout",
     "output_type": "stream",
     "text": [
      "/home/nali/Develop/HRI/dlib/deepgaze\n"
     ]
    }
   ],
   "source": [
    "cd dlib/deepgaze"
   ]
  },
  {
   "cell_type": "markdown",
   "metadata": {
    "tags": []
   },
   "source": [
    "## !!!!Only python 3.7 can run this head pose model. and aligned facial frame at first.\n"
   ]
  },
  {
   "cell_type": "code",
   "execution_count": 3,
   "metadata": {},
   "outputs": [
    {
     "name": "stderr",
     "output_type": "stream",
     "text": [
      "2023-04-19 12:54:07.989366: W tensorflow/stream_executor/platform/default/dso_loader.cc:64] Could not load dynamic library 'libcudart.so.11.0'; dlerror: libcudart.so.11.0: cannot open shared object file: No such file or directory; LD_LIBRARY_PATH: /home/nali/.local/lib/python3.8/site-packages/cv2/../../lib64:\n",
      "2023-04-19 12:54:07.989393: I tensorflow/stream_executor/cuda/cudart_stub.cc:29] Ignore above cudart dlerror if you do not have a GPU set up on your machine.\n"
     ]
    }
   ],
   "source": [
    "import os\n",
    "import cv2\n",
    "import sys\n",
    "sys.path.append('..')\n",
    "import numpy as np\n",
    "from math import cos, sin\n",
    "from keras import backend as K\n",
    "from keras.layers import Average"
   ]
  },
  {
   "cell_type": "code",
   "execution_count": 6,
   "metadata": {},
   "outputs": [
    {
     "name": "stdout",
     "output_type": "stream",
     "text": [
      "[DEEPGAZE][WARNING] head_pose_estimation.py: the dlib library is installed.\n"
     ]
    }
   ],
   "source": [
    "#!/usr/bin/env python\n",
    "\n",
    "#The MIT License (MIT)\n",
    "#Copyright (c) 2016 Massimiliano Patacchiola\n",
    "#\n",
    "#THE SOFTWARE IS PROVIDED \"AS IS\", WITHOUT WARRANTY OF ANY KIND, EXPRESS OR IMPLIED, INCLUDING BUT NOT LIMITED TO THE WARRANTIES OF \n",
    "#MERCHANTABILITY, FITNESS FOR A PARTICULAR PURPOSE AND NONINFRINGEMENT. IN NO EVENT SHALL THE AUTHORS OR COPYRIGHT HOLDERS BE LIABLE FOR ANY \n",
    "#CLAIM, DAMAGES OR OTHER LIABILITY, WHETHER IN AN ACTION OF CONTRACT, TORT OR OTHERWISE, ARISING FROM, OUT OF OR IN CONNECTION WITH THE \n",
    "#SOFTWARE OR THE USE OR OTHER DEALINGS IN THE SOFTWARE.\n",
    "\n",
    "import os\n",
    "# import tensorflow as tf\n",
    "\n",
    "import tensorflow.compat.v1 as tf\n",
    "tf.disable_v2_behavior()\n",
    "import cv2\n",
    "\n",
    "import matplotlib.pyplot as plt\n",
    "import cv2\n",
    "from PIL import Image\n",
    "\n",
    "\n",
    "from deepgaze.head_pose_estimation import CnnHeadPoseEstimator"
   ]
  },
  {
   "cell_type": "code",
   "execution_count": 7,
   "metadata": {},
   "outputs": [
    {
     "name": "stderr",
     "output_type": "stream",
     "text": [
      "2023-01-26 19:25:23.008026: I tensorflow/stream_executor/cuda/cuda_gpu_executor.cc:936] successful NUMA node read from SysFS had negative value (-1), but there must be at least one NUMA node, so returning NUMA node zero\n",
      "2023-01-26 19:25:23.009042: W tensorflow/stream_executor/platform/default/dso_loader.cc:64] Could not load dynamic library 'libcudart.so.11.0'; dlerror: libcudart.so.11.0: cannot open shared object file: No such file or directory; LD_LIBRARY_PATH: /home/nali/.local/lib/python3.8/site-packages/cv2/../../lib64:/opt/ros/foxy/opt/yaml_cpp_vendor/lib:/opt/ros/foxy/opt/rviz_ogre_vendor/lib:/opt/ros/foxy/lib/x86_64-linux-gnu:/opt/ros/foxy/lib\n",
      "2023-01-26 19:25:23.009446: W tensorflow/stream_executor/platform/default/dso_loader.cc:64] Could not load dynamic library 'libcublas.so.11'; dlerror: libcublas.so.11: cannot open shared object file: No such file or directory; LD_LIBRARY_PATH: /home/nali/.local/lib/python3.8/site-packages/cv2/../../lib64:/opt/ros/foxy/opt/yaml_cpp_vendor/lib:/opt/ros/foxy/opt/rviz_ogre_vendor/lib:/opt/ros/foxy/lib/x86_64-linux-gnu:/opt/ros/foxy/lib\n",
      "2023-01-26 19:25:23.009982: W tensorflow/stream_executor/platform/default/dso_loader.cc:64] Could not load dynamic library 'libcublasLt.so.11'; dlerror: libcublasLt.so.11: cannot open shared object file: No such file or directory; LD_LIBRARY_PATH: /home/nali/.local/lib/python3.8/site-packages/cv2/../../lib64:/opt/ros/foxy/opt/yaml_cpp_vendor/lib:/opt/ros/foxy/opt/rviz_ogre_vendor/lib:/opt/ros/foxy/lib/x86_64-linux-gnu:/opt/ros/foxy/lib\n",
      "2023-01-26 19:25:23.033738: W tensorflow/stream_executor/platform/default/dso_loader.cc:64] Could not load dynamic library 'libcusolver.so.11'; dlerror: libcusolver.so.11: cannot open shared object file: No such file or directory; LD_LIBRARY_PATH: /home/nali/.local/lib/python3.8/site-packages/cv2/../../lib64:/opt/ros/foxy/opt/yaml_cpp_vendor/lib:/opt/ros/foxy/opt/rviz_ogre_vendor/lib:/opt/ros/foxy/lib/x86_64-linux-gnu:/opt/ros/foxy/lib\n",
      "2023-01-26 19:25:23.034249: W tensorflow/stream_executor/platform/default/dso_loader.cc:64] Could not load dynamic library 'libcusparse.so.11'; dlerror: libcusparse.so.11: cannot open shared object file: No such file or directory; LD_LIBRARY_PATH: /home/nali/.local/lib/python3.8/site-packages/cv2/../../lib64:/opt/ros/foxy/opt/yaml_cpp_vendor/lib:/opt/ros/foxy/opt/rviz_ogre_vendor/lib:/opt/ros/foxy/lib/x86_64-linux-gnu:/opt/ros/foxy/lib\n",
      "2023-01-26 19:25:23.034625: W tensorflow/stream_executor/platform/default/dso_loader.cc:64] Could not load dynamic library 'libcudnn.so.8'; dlerror: libcudnn.so.8: cannot open shared object file: No such file or directory; LD_LIBRARY_PATH: /home/nali/.local/lib/python3.8/site-packages/cv2/../../lib64:/opt/ros/foxy/opt/yaml_cpp_vendor/lib:/opt/ros/foxy/opt/rviz_ogre_vendor/lib:/opt/ros/foxy/lib/x86_64-linux-gnu:/opt/ros/foxy/lib\n",
      "2023-01-26 19:25:23.034668: W tensorflow/core/common_runtime/gpu/gpu_device.cc:1850] Cannot dlopen some GPU libraries. Please make sure the missing libraries mentioned above are installed properly if you would like to use GPU. Follow the guide at https://www.tensorflow.org/install/gpu for how to download and setup the required libraries for your platform.\n",
      "Skipping registering GPU devices...\n",
      "2023-01-26 19:25:23.036650: I tensorflow/core/platform/cpu_feature_guard.cc:151] This TensorFlow binary is optimized with oneAPI Deep Neural Network Library (oneDNN) to use the following CPU instructions in performance-critical operations:  AVX2 FMA\n",
      "To enable them in other operations, rebuild TensorFlow with the appropriate compiler flags.\n"
     ]
    }
   ],
   "source": [
    "sess = tf.Session() #Launch the graph in a session."
   ]
  },
  {
   "cell_type": "code",
   "execution_count": 4,
   "metadata": {},
   "outputs": [
    {
     "data": {
      "text/plain": [
       "'/home/nali/Develop/HRI/etc/tensorflow/head_pose/roll/cnn_cccdd_30k.tf'"
      ]
     },
     "execution_count": 4,
     "metadata": {},
     "output_type": "execute_result"
    }
   ],
   "source": [
    "os.path.realpath(\"./etc/tensorflow/head_pose/roll/cnn_cccdd_30k.tf\")"
   ]
  },
  {
   "cell_type": "code",
   "execution_count": 52,
   "metadata": {},
   "outputs": [
    {
     "name": "stdout",
     "output_type": "stream",
     "text": [
      "/home/nali/Develop/HRI/dlib/deepgaze\n"
     ]
    }
   ],
   "source": [
    "cd .."
   ]
  },
  {
   "cell_type": "code",
   "execution_count": 53,
   "metadata": {},
   "outputs": [],
   "source": [
    "if(os.path.isfile(os.path.realpath(\"./etc/tensorflow/head_pose/roll/cnn_cccdd_30k.tf\"))==False):\n",
    "    raise ValueError('[DEEPGAZE] CnnHeadPoseEstimator(load_roll_variables): the roll file path is incorrect.')"
   ]
  },
  {
   "cell_type": "code",
   "execution_count": 8,
   "metadata": {},
   "outputs": [
    {
     "name": "stdout",
     "output_type": "stream",
     "text": [
      "INFO:tensorflow:Restoring parameters from /home/nali/Develop/HRI/dlib/deepgaze/etc/tensorflow/head_pose/roll/cnn_cccdd_30k.tf\n",
      "INFO:tensorflow:Restoring parameters from /home/nali/Develop/HRI/dlib/deepgaze/etc/tensorflow/head_pose/pitch/cnn_cccdd_30k.tf\n",
      "INFO:tensorflow:Restoring parameters from /home/nali/Develop/HRI/dlib/deepgaze/etc/tensorflow/head_pose/yaw/cnn_cccdd_30k.tf\n"
     ]
    }
   ],
   "source": [
    "my_head_pose_estimator = CnnHeadPoseEstimator(sess) #Head pose estimation object\n",
    "\n",
    "# Load the weights from the configuration folders\n",
    "my_head_pose_estimator.load_roll_variables(os.path.realpath(\"./etc/tensorflow/head_pose/roll/cnn_cccdd_30k.tf\"))\n",
    "my_head_pose_estimator.load_pitch_variables(os.path.realpath(\"./etc/tensorflow/head_pose/pitch/cnn_cccdd_30k.tf\"))\n",
    "my_head_pose_estimator.load_yaw_variables(os.path.realpath(\"./etc/tensorflow/head_pose/yaw/cnn_cccdd_30k.tf\"))\n"
   ]
  },
  {
   "cell_type": "code",
   "execution_count": 9,
   "metadata": {},
   "outputs": [],
   "source": [
    "task = 'part2'\n",
    "condition='A2'"
   ]
  },
  {
   "cell_type": "code",
   "execution_count": 10,
   "metadata": {},
   "outputs": [
    {
     "data": {
      "text/plain": [
       "'/media/nali/Seagate Portable Drive/5_HRIStudy2_FrameData/face_alignment/part2/condition_A2/'"
      ]
     },
     "execution_count": 10,
     "metadata": {},
     "output_type": "execute_result"
    }
   ],
   "source": [
    "folderpath = '/media/nali/Seagate Portable Drive/5_HRIStudy2_FrameData/face_alignment/' + task + '/condition_' + condition + '/'\n",
    "folderpath"
   ]
  },
  {
   "cell_type": "code",
   "execution_count": 11,
   "metadata": {},
   "outputs": [
    {
     "name": "stdout",
     "output_type": "stream",
     "text": [
      "['part2_faceAlign_frame_face_A2_0.jpg', 'part2_faceAlign_frame_face_A2_1.jpg', 'part2_faceAlign_frame_face_A2_10.jpg', 'part2_faceAlign_frame_face_A2_100.jpg', 'part2_faceAlign_frame_face_A2_1000.jpg', 'part2_faceAlign_frame_face_A2_10000.jpg', 'part2_faceAlign_frame_face_A2_10001.jpg', 'part2_faceAlign_frame_face_A2_10002.jpg', 'part2_faceAlign_frame_face_A2_10003.jpg', 'part2_faceAlign_frame_face_A2_10004.jpg']\n",
      "26631\n"
     ]
    }
   ],
   "source": [
    "# folderpath = rootpath + '/A/'\n",
    "# folderpath = rootpath + '/B/'\n",
    "# folderpath = rootpath + '/BAB/'\n",
    "allfiles = os.listdir(folderpath)\n",
    "files = [ fname for fname in allfiles if fname.endswith('.jpg')]\n",
    "files.sort()\n",
    "print(files[:10])\n",
    "print(len(files))"
   ]
  },
  {
   "cell_type": "code",
   "execution_count": 12,
   "metadata": {},
   "outputs": [],
   "source": [
    "import pandas as pd"
   ]
  },
  {
   "cell_type": "code",
   "execution_count": 13,
   "metadata": {},
   "outputs": [
    {
     "data": {
      "text/html": [
       "<div>\n",
       "<style scoped>\n",
       "    .dataframe tbody tr th:only-of-type {\n",
       "        vertical-align: middle;\n",
       "    }\n",
       "\n",
       "    .dataframe tbody tr th {\n",
       "        vertical-align: top;\n",
       "    }\n",
       "\n",
       "    .dataframe thead th {\n",
       "        text-align: right;\n",
       "    }\n",
       "</style>\n",
       "<table border=\"1\" class=\"dataframe\">\n",
       "  <thead>\n",
       "    <tr style=\"text-align: right;\">\n",
       "      <th></th>\n",
       "      <th>image_ID</th>\n",
       "      <th>roll</th>\n",
       "      <th>pitch</th>\n",
       "      <th>yaw</th>\n",
       "    </tr>\n",
       "  </thead>\n",
       "  <tbody>\n",
       "  </tbody>\n",
       "</table>\n",
       "</div>"
      ],
      "text/plain": [
       "Empty DataFrame\n",
       "Columns: [image_ID, roll, pitch, yaw]\n",
       "Index: []"
      ]
     },
     "execution_count": 13,
     "metadata": {},
     "output_type": "execute_result"
    }
   ],
   "source": [
    "df_rollpitchyaw_headpose_data = pd.DataFrame(columns=['image_ID', 'roll', 'pitch', 'yaw'])\n",
    "df_rollpitchyaw_headpose_data"
   ]
  },
  {
   "cell_type": "code",
   "execution_count": 14,
   "metadata": {},
   "outputs": [
    {
     "name": "stdout",
     "output_type": "stream",
     "text": [
      "amount images: 0\n",
      "amount images: 1000\n",
      "amount images: 2000\n",
      "amount images: 3000\n",
      "amount images: 4000\n",
      "amount images: 5000\n",
      "amount images: 6000\n",
      "amount images: 7000\n",
      "amount images: 8000\n",
      "amount images: 9000\n",
      "amount images: 10000\n",
      "amount images: 11000\n",
      "amount images: 12000\n",
      "amount images: 13000\n",
      "amount images: 14000\n",
      "amount images: 15000\n",
      "amount images: 16000\n",
      "amount images: 17000\n",
      "amount images: 18000\n",
      "amount images: 19000\n",
      "amount images: 20000\n",
      "amount images: 21000\n",
      "amount images: 22000\n",
      "amount images: 23000\n",
      "amount images: 24000\n",
      "amount images: 25000\n",
      "amount images: 26000\n",
      "26631 finish!\n"
     ]
    }
   ],
   "source": [
    "index = 0\n",
    "for image in files:\n",
    "    if index%1000 == 0:\n",
    "        print(\"amount images:\", index)\n",
    "    file_name = image\n",
    "    img_file_name = folderpath + image\n",
    "    # print(\"Processing image ..... \" + file_name)\n",
    "    image = cv2.imread(img_file_name) #Read the image with OpenCV\n",
    "    # Get the angles for roll, pitch and yaw\n",
    "    roll = my_head_pose_estimator.return_roll(image)  # Evaluate the roll angle using a CNN\n",
    "    pitch = my_head_pose_estimator.return_pitch(image)  # Evaluate the pitch angle using a CNN\n",
    "    yaw = my_head_pose_estimator.return_yaw(image)  # Evaluate the yaw angle using a CNN\n",
    "\n",
    "    # draw_image = draw_axis(image, yaw[0,0,0], pitch[0,0,0], roll[0,0,0])\n",
    "    #     cv2.imshow(\"result\", draw_image)\n",
    "    index +=1\n",
    "    # print(\"Estimated [roll, pitch, yaw] ..... [\" + str(roll[0,0,0]) + \",\" + str(pitch[0,0,0]) + \",\" + str(yaw[0,0,0])  + \"]\")\n",
    "    df_rollpitchyaw_headpose_data.loc[index] = [file_name, roll[0,0,0], pitch[0,0,0], yaw[0,0,0]]\n",
    "    # print(index)\n",
    "print(index, \"finish!\")"
   ]
  },
  {
   "cell_type": "code",
   "execution_count": 70,
   "metadata": {},
   "outputs": [
    {
     "data": {
      "text/html": [
       "<div>\n",
       "<style scoped>\n",
       "    .dataframe tbody tr th:only-of-type {\n",
       "        vertical-align: middle;\n",
       "    }\n",
       "\n",
       "    .dataframe tbody tr th {\n",
       "        vertical-align: top;\n",
       "    }\n",
       "\n",
       "    .dataframe thead th {\n",
       "        text-align: right;\n",
       "    }\n",
       "</style>\n",
       "<table border=\"1\" class=\"dataframe\">\n",
       "  <thead>\n",
       "    <tr style=\"text-align: right;\">\n",
       "      <th></th>\n",
       "      <th>image_ID</th>\n",
       "      <th>roll</th>\n",
       "      <th>pitch</th>\n",
       "      <th>yaw</th>\n",
       "    </tr>\n",
       "  </thead>\n",
       "  <tbody>\n",
       "    <tr>\n",
       "      <th>1</th>\n",
       "      <td>part2_faceAlign_frame_face_B_A1_0.jpg</td>\n",
       "      <td>4.879447</td>\n",
       "      <td>-5.604935</td>\n",
       "      <td>-9.031567</td>\n",
       "    </tr>\n",
       "    <tr>\n",
       "      <th>2</th>\n",
       "      <td>part2_faceAlign_frame_face_B_A1_1.jpg</td>\n",
       "      <td>6.296574</td>\n",
       "      <td>-4.484974</td>\n",
       "      <td>8.785522</td>\n",
       "    </tr>\n",
       "    <tr>\n",
       "      <th>3</th>\n",
       "      <td>part2_faceAlign_frame_face_B_A1_10.jpg</td>\n",
       "      <td>0.627444</td>\n",
       "      <td>-4.790659</td>\n",
       "      <td>2.116911</td>\n",
       "    </tr>\n",
       "    <tr>\n",
       "      <th>4</th>\n",
       "      <td>part2_faceAlign_frame_face_B_A1_100.jpg</td>\n",
       "      <td>5.569208</td>\n",
       "      <td>-2.241903</td>\n",
       "      <td>-3.824083</td>\n",
       "    </tr>\n",
       "    <tr>\n",
       "      <th>5</th>\n",
       "      <td>part2_faceAlign_frame_face_B_A1_1000.jpg</td>\n",
       "      <td>3.062446</td>\n",
       "      <td>-11.804044</td>\n",
       "      <td>5.532505</td>\n",
       "    </tr>\n",
       "  </tbody>\n",
       "</table>\n",
       "</div>"
      ],
      "text/plain": [
       "                                   image_ID      roll      pitch       yaw\n",
       "1     part2_faceAlign_frame_face_B_A1_0.jpg  4.879447  -5.604935 -9.031567\n",
       "2     part2_faceAlign_frame_face_B_A1_1.jpg  6.296574  -4.484974  8.785522\n",
       "3    part2_faceAlign_frame_face_B_A1_10.jpg  0.627444  -4.790659  2.116911\n",
       "4   part2_faceAlign_frame_face_B_A1_100.jpg  5.569208  -2.241903 -3.824083\n",
       "5  part2_faceAlign_frame_face_B_A1_1000.jpg  3.062446 -11.804044  5.532505"
      ]
     },
     "execution_count": 70,
     "metadata": {},
     "output_type": "execute_result"
    }
   ],
   "source": [
    "df_rollpitchyaw_headpose_data.head()"
   ]
  },
  {
   "cell_type": "code",
   "execution_count": 71,
   "metadata": {},
   "outputs": [
    {
     "data": {
      "text/html": [
       "<div>\n",
       "<style scoped>\n",
       "    .dataframe tbody tr th:only-of-type {\n",
       "        vertical-align: middle;\n",
       "    }\n",
       "\n",
       "    .dataframe tbody tr th {\n",
       "        vertical-align: top;\n",
       "    }\n",
       "\n",
       "    .dataframe thead th {\n",
       "        text-align: right;\n",
       "    }\n",
       "</style>\n",
       "<table border=\"1\" class=\"dataframe\">\n",
       "  <thead>\n",
       "    <tr style=\"text-align: right;\">\n",
       "      <th></th>\n",
       "      <th>image_ID</th>\n",
       "      <th>roll</th>\n",
       "      <th>pitch</th>\n",
       "      <th>yaw</th>\n",
       "    </tr>\n",
       "  </thead>\n",
       "  <tbody>\n",
       "  </tbody>\n",
       "</table>\n",
       "</div>"
      ],
      "text/plain": [
       "Empty DataFrame\n",
       "Columns: [image_ID, roll, pitch, yaw]\n",
       "Index: []"
      ]
     },
     "execution_count": 71,
     "metadata": {},
     "output_type": "execute_result"
    }
   ],
   "source": [
    "df_rollpitchyaw_headpose_A1_B = pd.DataFrame(columns=['image_ID', 'roll', 'pitch', 'yaw'])\n",
    "df_rollpitchyaw_headpose_A1_B"
   ]
  },
  {
   "cell_type": "code",
   "execution_count": 72,
   "metadata": {},
   "outputs": [
    {
     "data": {
      "text/html": [
       "<div>\n",
       "<style scoped>\n",
       "    .dataframe tbody tr th:only-of-type {\n",
       "        vertical-align: middle;\n",
       "    }\n",
       "\n",
       "    .dataframe tbody tr th {\n",
       "        vertical-align: top;\n",
       "    }\n",
       "\n",
       "    .dataframe thead th {\n",
       "        text-align: right;\n",
       "    }\n",
       "</style>\n",
       "<table border=\"1\" class=\"dataframe\">\n",
       "  <thead>\n",
       "    <tr style=\"text-align: right;\">\n",
       "      <th></th>\n",
       "      <th>image_ID</th>\n",
       "      <th>roll</th>\n",
       "      <th>pitch</th>\n",
       "      <th>yaw</th>\n",
       "      <th>condition</th>\n",
       "    </tr>\n",
       "  </thead>\n",
       "  <tbody>\n",
       "    <tr>\n",
       "      <th>1</th>\n",
       "      <td>part2_faceAlign_frame_face_B_A1_0.jpg</td>\n",
       "      <td>4.879447</td>\n",
       "      <td>-5.604935</td>\n",
       "      <td>-9.031567</td>\n",
       "      <td>A1_B</td>\n",
       "    </tr>\n",
       "    <tr>\n",
       "      <th>2</th>\n",
       "      <td>part2_faceAlign_frame_face_B_A1_1.jpg</td>\n",
       "      <td>6.296574</td>\n",
       "      <td>-4.484974</td>\n",
       "      <td>8.785522</td>\n",
       "      <td>A1_B</td>\n",
       "    </tr>\n",
       "    <tr>\n",
       "      <th>3</th>\n",
       "      <td>part2_faceAlign_frame_face_B_A1_10.jpg</td>\n",
       "      <td>0.627444</td>\n",
       "      <td>-4.790659</td>\n",
       "      <td>2.116911</td>\n",
       "      <td>A1_B</td>\n",
       "    </tr>\n",
       "    <tr>\n",
       "      <th>4</th>\n",
       "      <td>part2_faceAlign_frame_face_B_A1_100.jpg</td>\n",
       "      <td>5.569208</td>\n",
       "      <td>-2.241903</td>\n",
       "      <td>-3.824083</td>\n",
       "      <td>A1_B</td>\n",
       "    </tr>\n",
       "    <tr>\n",
       "      <th>5</th>\n",
       "      <td>part2_faceAlign_frame_face_B_A1_1000.jpg</td>\n",
       "      <td>3.062446</td>\n",
       "      <td>-11.804044</td>\n",
       "      <td>5.532505</td>\n",
       "      <td>A1_B</td>\n",
       "    </tr>\n",
       "  </tbody>\n",
       "</table>\n",
       "</div>"
      ],
      "text/plain": [
       "                                   image_ID      roll      pitch       yaw  \\\n",
       "1     part2_faceAlign_frame_face_B_A1_0.jpg  4.879447  -5.604935 -9.031567   \n",
       "2     part2_faceAlign_frame_face_B_A1_1.jpg  6.296574  -4.484974  8.785522   \n",
       "3    part2_faceAlign_frame_face_B_A1_10.jpg  0.627444  -4.790659  2.116911   \n",
       "4   part2_faceAlign_frame_face_B_A1_100.jpg  5.569208  -2.241903 -3.824083   \n",
       "5  part2_faceAlign_frame_face_B_A1_1000.jpg  3.062446 -11.804044  5.532505   \n",
       "\n",
       "  condition  \n",
       "1      A1_B  \n",
       "2      A1_B  \n",
       "3      A1_B  \n",
       "4      A1_B  \n",
       "5      A1_B  "
      ]
     },
     "execution_count": 72,
     "metadata": {},
     "output_type": "execute_result"
    }
   ],
   "source": [
    "df_rollpitchyaw_headpose_A1_B = df_rollpitchyaw_headpose_data\n",
    "df_rollpitchyaw_headpose_A1_B['condition'] = 'A1_B'\n",
    "df_rollpitchyaw_headpose_A1_B.head()"
   ]
  },
  {
   "cell_type": "markdown",
   "metadata": {},
   "source": [
    "### Get sum of absoluate roll, pitch and yaw value --- rollpitchyaw"
   ]
  },
  {
   "cell_type": "code",
   "execution_count": 73,
   "metadata": {},
   "outputs": [
    {
     "data": {
      "text/html": [
       "<div>\n",
       "<style scoped>\n",
       "    .dataframe tbody tr th:only-of-type {\n",
       "        vertical-align: middle;\n",
       "    }\n",
       "\n",
       "    .dataframe tbody tr th {\n",
       "        vertical-align: top;\n",
       "    }\n",
       "\n",
       "    .dataframe thead th {\n",
       "        text-align: right;\n",
       "    }\n",
       "</style>\n",
       "<table border=\"1\" class=\"dataframe\">\n",
       "  <thead>\n",
       "    <tr style=\"text-align: right;\">\n",
       "      <th></th>\n",
       "      <th>image_ID</th>\n",
       "      <th>roll</th>\n",
       "      <th>pitch</th>\n",
       "      <th>yaw</th>\n",
       "      <th>condition</th>\n",
       "      <th>rollpitchyaw</th>\n",
       "    </tr>\n",
       "  </thead>\n",
       "  <tbody>\n",
       "    <tr>\n",
       "      <th>1</th>\n",
       "      <td>part2_faceAlign_frame_face_B_A1_0.jpg</td>\n",
       "      <td>4.879447</td>\n",
       "      <td>-5.604935</td>\n",
       "      <td>-9.031567</td>\n",
       "      <td>A1_B</td>\n",
       "      <td>19.515949</td>\n",
       "    </tr>\n",
       "    <tr>\n",
       "      <th>2</th>\n",
       "      <td>part2_faceAlign_frame_face_B_A1_1.jpg</td>\n",
       "      <td>6.296574</td>\n",
       "      <td>-4.484974</td>\n",
       "      <td>8.785522</td>\n",
       "      <td>A1_B</td>\n",
       "      <td>19.567070</td>\n",
       "    </tr>\n",
       "    <tr>\n",
       "      <th>3</th>\n",
       "      <td>part2_faceAlign_frame_face_B_A1_10.jpg</td>\n",
       "      <td>0.627444</td>\n",
       "      <td>-4.790659</td>\n",
       "      <td>2.116911</td>\n",
       "      <td>A1_B</td>\n",
       "      <td>7.535014</td>\n",
       "    </tr>\n",
       "    <tr>\n",
       "      <th>4</th>\n",
       "      <td>part2_faceAlign_frame_face_B_A1_100.jpg</td>\n",
       "      <td>5.569208</td>\n",
       "      <td>-2.241903</td>\n",
       "      <td>-3.824083</td>\n",
       "      <td>A1_B</td>\n",
       "      <td>11.635194</td>\n",
       "    </tr>\n",
       "    <tr>\n",
       "      <th>5</th>\n",
       "      <td>part2_faceAlign_frame_face_B_A1_1000.jpg</td>\n",
       "      <td>3.062446</td>\n",
       "      <td>-11.804044</td>\n",
       "      <td>5.532505</td>\n",
       "      <td>A1_B</td>\n",
       "      <td>20.398994</td>\n",
       "    </tr>\n",
       "  </tbody>\n",
       "</table>\n",
       "</div>"
      ],
      "text/plain": [
       "                                   image_ID      roll      pitch       yaw  \\\n",
       "1     part2_faceAlign_frame_face_B_A1_0.jpg  4.879447  -5.604935 -9.031567   \n",
       "2     part2_faceAlign_frame_face_B_A1_1.jpg  6.296574  -4.484974  8.785522   \n",
       "3    part2_faceAlign_frame_face_B_A1_10.jpg  0.627444  -4.790659  2.116911   \n",
       "4   part2_faceAlign_frame_face_B_A1_100.jpg  5.569208  -2.241903 -3.824083   \n",
       "5  part2_faceAlign_frame_face_B_A1_1000.jpg  3.062446 -11.804044  5.532505   \n",
       "\n",
       "  condition  rollpitchyaw  \n",
       "1      A1_B     19.515949  \n",
       "2      A1_B     19.567070  \n",
       "3      A1_B      7.535014  \n",
       "4      A1_B     11.635194  \n",
       "5      A1_B     20.398994  "
      ]
     },
     "execution_count": 73,
     "metadata": {},
     "output_type": "execute_result"
    }
   ],
   "source": [
    "df_rollpitchyaw_headpose_A1_B['rollpitchyaw'] = df_rollpitchyaw_headpose_A1_B['roll'].abs() +  df_rollpitchyaw_headpose_A1_B['pitch'].abs() + df_rollpitchyaw_headpose_A1_B['yaw'].abs()\n",
    "df_rollpitchyaw_headpose_A1_B.head()"
   ]
  },
  {
   "cell_type": "markdown",
   "metadata": {},
   "source": [
    "### Normalization"
   ]
  },
  {
   "cell_type": "code",
   "execution_count": null,
   "metadata": {},
   "outputs": [],
   "source": [
    "# headpose\n",
    "df_part1_headpose_A = pd.read_csv('/home/nali/Develop/HRI/data/HRI_Study2_result_csv/head_pose/part1/part1_A_headpose_norm_9994.csv')\n",
    "df_part1_headpose_B = pd.read_csv('/home/nali/Develop/HRI/data/HRI_Study2_result_csv/head_pose/part1/part1_B_headpose_norm_5785.csv')"
   ]
  },
  {
   "cell_type": "code",
   "execution_count": 77,
   "metadata": {},
   "outputs": [
    {
     "data": {
      "text/html": [
       "<div>\n",
       "<style scoped>\n",
       "    .dataframe tbody tr th:only-of-type {\n",
       "        vertical-align: middle;\n",
       "    }\n",
       "\n",
       "    .dataframe tbody tr th {\n",
       "        vertical-align: top;\n",
       "    }\n",
       "\n",
       "    .dataframe thead th {\n",
       "        text-align: right;\n",
       "    }\n",
       "</style>\n",
       "<table border=\"1\" class=\"dataframe\">\n",
       "  <thead>\n",
       "    <tr style=\"text-align: right;\">\n",
       "      <th></th>\n",
       "      <th>image_ID</th>\n",
       "      <th>roll</th>\n",
       "      <th>pitch</th>\n",
       "      <th>yaw</th>\n",
       "      <th>condition</th>\n",
       "      <th>rollpitchyaw</th>\n",
       "      <th>norm_yaw</th>\n",
       "      <th>norm_roll</th>\n",
       "      <th>norm_pitch</th>\n",
       "      <th>norm_rollpitchyaw</th>\n",
       "    </tr>\n",
       "  </thead>\n",
       "  <tbody>\n",
       "    <tr>\n",
       "      <th>1</th>\n",
       "      <td>part2_faceAlign_frame_face_B_A1_0.jpg</td>\n",
       "      <td>4.879447</td>\n",
       "      <td>-5.604935</td>\n",
       "      <td>-9.031567</td>\n",
       "      <td>A1_B</td>\n",
       "      <td>19.515949</td>\n",
       "      <td>0.402641</td>\n",
       "      <td>0.654127</td>\n",
       "      <td>0.483084</td>\n",
       "      <td>0.211994</td>\n",
       "    </tr>\n",
       "    <tr>\n",
       "      <th>2</th>\n",
       "      <td>part2_faceAlign_frame_face_B_A1_1.jpg</td>\n",
       "      <td>6.296574</td>\n",
       "      <td>-4.484974</td>\n",
       "      <td>8.785522</td>\n",
       "      <td>A1_B</td>\n",
       "      <td>19.567070</td>\n",
       "      <td>0.531350</td>\n",
       "      <td>0.695972</td>\n",
       "      <td>0.509491</td>\n",
       "      <td>0.212565</td>\n",
       "    </tr>\n",
       "    <tr>\n",
       "      <th>3</th>\n",
       "      <td>part2_faceAlign_frame_face_B_A1_10.jpg</td>\n",
       "      <td>0.627444</td>\n",
       "      <td>-4.790659</td>\n",
       "      <td>2.116911</td>\n",
       "      <td>A1_B</td>\n",
       "      <td>7.535014</td>\n",
       "      <td>0.483177</td>\n",
       "      <td>0.528575</td>\n",
       "      <td>0.502284</td>\n",
       "      <td>0.078210</td>\n",
       "    </tr>\n",
       "    <tr>\n",
       "      <th>4</th>\n",
       "      <td>part2_faceAlign_frame_face_B_A1_100.jpg</td>\n",
       "      <td>5.569208</td>\n",
       "      <td>-2.241903</td>\n",
       "      <td>-3.824083</td>\n",
       "      <td>A1_B</td>\n",
       "      <td>11.635194</td>\n",
       "      <td>0.440259</td>\n",
       "      <td>0.674495</td>\n",
       "      <td>0.562382</td>\n",
       "      <td>0.123995</td>\n",
       "    </tr>\n",
       "    <tr>\n",
       "      <th>5</th>\n",
       "      <td>part2_faceAlign_frame_face_B_A1_1000.jpg</td>\n",
       "      <td>3.062446</td>\n",
       "      <td>-11.804044</td>\n",
       "      <td>5.532505</td>\n",
       "      <td>A1_B</td>\n",
       "      <td>20.398994</td>\n",
       "      <td>0.507851</td>\n",
       "      <td>0.600475</td>\n",
       "      <td>0.336913</td>\n",
       "      <td>0.221855</td>\n",
       "    </tr>\n",
       "  </tbody>\n",
       "</table>\n",
       "</div>"
      ],
      "text/plain": [
       "                                   image_ID      roll      pitch       yaw  \\\n",
       "1     part2_faceAlign_frame_face_B_A1_0.jpg  4.879447  -5.604935 -9.031567   \n",
       "2     part2_faceAlign_frame_face_B_A1_1.jpg  6.296574  -4.484974  8.785522   \n",
       "3    part2_faceAlign_frame_face_B_A1_10.jpg  0.627444  -4.790659  2.116911   \n",
       "4   part2_faceAlign_frame_face_B_A1_100.jpg  5.569208  -2.241903 -3.824083   \n",
       "5  part2_faceAlign_frame_face_B_A1_1000.jpg  3.062446 -11.804044  5.532505   \n",
       "\n",
       "  condition  rollpitchyaw  norm_yaw  norm_roll  norm_pitch  norm_rollpitchyaw  \n",
       "1      A1_B     19.515949  0.402641   0.654127    0.483084           0.211994  \n",
       "2      A1_B     19.567070  0.531350   0.695972    0.509491           0.212565  \n",
       "3      A1_B      7.535014  0.483177   0.528575    0.502284           0.078210  \n",
       "4      A1_B     11.635194  0.440259   0.674495    0.562382           0.123995  \n",
       "5      A1_B     20.398994  0.507851   0.600475    0.336913           0.221855  "
      ]
     },
     "execution_count": 77,
     "metadata": {},
     "output_type": "execute_result"
    }
   ],
   "source": [
    "#normalise\n",
    "min_em= df_rollpitchyaw_headpose_A1_B['rollpitchyaw'].min()\n",
    "max_em= df_rollpitchyaw_headpose_A1_B['rollpitchyaw'].max()\n",
    "range_max_min = max_em - min_em\n",
    "df_rollpitchyaw_headpose_A1_B['norm_rollpitchyaw'] = (df_rollpitchyaw_headpose_A1_B['rollpitchyaw']-min_em) / range_max_min\n",
    "df_rollpitchyaw_headpose_A1_B.head()"
   ]
  },
  {
   "cell_type": "code",
   "execution_count": null,
   "metadata": {},
   "outputs": [],
   "source": [
    "df_rollpitchyaw_headpose_A1_B.to_csv(\"/home/nali/Develop/HRI/data/HRI_Study2_result_csv/head_pose/part2/part2_A1_B_headpose_norm.csv\",index=False)"
   ]
  },
  {
   "cell_type": "code",
   "execution_count": null,
   "metadata": {},
   "outputs": [],
   "source": [
    "df_part2_headpose_A2_sample.to_csv('/home/nali/Develop/HRI/data/HRI_Study2_result_csv/head_pose/part2/part2_heappose_combined/part2_A2_headpose_sample3_11218_norm.csv')"
   ]
  }
 ],
 "metadata": {
  "kernelspec": {
   "display_name": "Python 3 (ipykernel)",
   "language": "python",
   "name": "python3"
  },
  "language_info": {
   "codemirror_mode": {
    "name": "ipython",
    "version": 3
   },
   "file_extension": ".py",
   "mimetype": "text/x-python",
   "name": "python",
   "nbconvert_exporter": "python",
   "pygments_lexer": "ipython3",
   "version": "3.8.10"
  }
 },
 "nbformat": 4,
 "nbformat_minor": 4
}
