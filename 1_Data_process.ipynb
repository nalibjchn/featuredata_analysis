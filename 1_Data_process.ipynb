{
 "cells": [
  {
   "cell_type": "code",
   "execution_count": null,
   "id": "494cd201-1630-46fe-bcd2-fac24c865340",
   "metadata": {},
   "outputs": [],
   "source": [
    "import os\n",
    "import cv2\n",
    "import math\n",
    "import pandas as pd\n",
    "import numpy as np\n",
    "import pip\n",
    "import matplotlib.pyplot as plt #for plotting the images\n",
    "%matplotlib inline"
   ]
  },
  {
   "cell_type": "markdown",
   "id": "1ccbffb1-512f-4a0d-bbbd-5395a1748356",
   "metadata": {
    "tags": []
   },
   "source": [
    "## Extraction Facial frame data and audio data from video"
   ]
  },
  {
   "cell_type": "markdown",
   "id": "68520a5f-7eff-4447-87bb-e9709781f108",
   "metadata": {},
   "source": [
    "### Comment functions"
   ]
  },
  {
   "cell_type": "code",
   "execution_count": null,
   "id": "1f37984a-8dae-45a2-a745-4cfa0dbe4f0f",
   "metadata": {},
   "outputs": [],
   "source": [
    "def countfiles(path, filetype):\n",
    "    # show how many video files\n",
    "    allfiles = os.listdir(rootpath)\n",
    "    files = [ fname for fname in allfiles if fname.endswith(filetype)]\n",
    "    # files = [ fname for fname in allfiles if fname.endswith('.mp4')]\n",
    "    print(files[0:5])\n",
    "    print(len(files))\n",
    "    return files"
   ]
  },
  {
   "cell_type": "markdown",
   "id": "54071437-c730-4249-a3a2-54e5c7aba8aa",
   "metadata": {
    "tags": []
   },
   "source": [
    "### Facial Frame Data Extraction"
   ]
  },
  {
   "cell_type": "code",
   "execution_count": null,
   "id": "53f5ea31-6023-464f-b63c-57f9ecbac18d",
   "metadata": {},
   "outputs": [],
   "source": [
    "# count for each condition\n",
    "count_B_A1 = 0\n",
    "count_A1_beforehelp = 0\n",
    "count_A1_withhelp =0\n",
    "count_B_A2 = 0\n",
    "count_A2 = 0"
   ]
  },
  {
   "cell_type": "code",
   "execution_count": null,
   "id": "bc7f21d7-22e0-47f7-8f4c-eefd01b94fd5",
   "metadata": {},
   "outputs": [],
   "source": [
    "condition = \"B_A1\""
   ]
  },
  {
   "cell_type": "code",
   "execution_count": null,
   "id": "460be5d5-8bc1-4877-b33f-0ba082165f3c",
   "metadata": {},
   "outputs": [],
   "source": [
    "video_type = 'face'"
   ]
  },
  {
   "cell_type": "code",
   "execution_count": null,
   "id": "f07dccdc-d437-4200-af65-7ed6abade3d0",
   "metadata": {},
   "outputs": [],
   "source": [
    "task_frame= 'part2_withuserID'"
   ]
  },
  {
   "cell_type": "code",
   "execution_count": null,
   "id": "dc29fe68-d277-4a2c-b65c-be498a3b6ec1",
   "metadata": {},
   "outputs": [],
   "source": [
    "rootpath = '/media/nali/Seagate Portable Drive/4_HRIStudy2_Conditions_groupby/TasksGroupBy/' + task + '/' + video_type + '/condition_' + condition + '/'\n",
    "rootpath"
   ]
  },
  {
   "cell_type": "code",
   "execution_count": null,
   "id": "dad5247d-a435-4e44-819d-869a17dde39a",
   "metadata": {},
   "outputs": [],
   "source": [
    "framepath = '/media/nali/Seagate Portable Drive/5_HRIStudy2_FrameData/' + video_type + '/' + task_frame + '/condition_' + condition + '/'\n",
    "framepath"
   ]
  },
  {
   "cell_type": "code",
   "execution_count": null,
   "id": "1d2def22-3ed9-47c2-838b-36651eba74f7",
   "metadata": {},
   "outputs": [],
   "source": [
    "def extractImages(userId, count_A, count_B):\n",
    "\n",
    "    while(cap.isOpened()):\n",
    "        frameId = cap.get(1)\n",
    "        ret, frame = cap.read()\n",
    "        if(ret != True):\n",
    "            break\n",
    "        if(frameId % math.floor(frameRate) == 0):\n",
    "            if(condition == 'B_A2'):\n",
    "                \n",
    "                # filename = rootpath + \"images/A/frame_\" + condition +\"%d.jpg\"%count_A;\n",
    "                filename = framepath + userId + \"_frame_\" + video_type + \"_\" + condition +\"_%d.jpg\"%count_A;\n",
    "                count_A +=1\n",
    "                \n",
    "            else:\n",
    "                # filename = rootpath + \"images/B/frame_\" + condition +\"%d.jpg\"%count_B;\n",
    "                filename = framepath + userId + \"_frame_\" + video_type + \"_\" + condition +\"_%d.jpg\"%count_B;\n",
    "                count_B +=1\n",
    "                \n",
    "            cv2.imwrite(filename, frame)\n",
    "    \n",
    "    cap.release()\n",
    "    return count_A, count_B"
   ]
  },
  {
   "cell_type": "code",
   "execution_count": null,
   "id": "b03dd14e-b17f-482e-b6fd-269c60e46eb2",
   "metadata": {},
   "outputs": [],
   "source": [
    "files = countfiles(rootpath,'.mp4')"
   ]
  },
  {
   "cell_type": "code",
   "execution_count": null,
   "id": "7a0e817a-5636-4361-9fcb-065ae762c049",
   "metadata": {},
   "outputs": [],
   "source": [
    "# extract frame data\n",
    "for mp4file in files:\n",
    "    \n",
    "    videoFile = rootpath + mp4file\n",
    "    print(videoFile)\n",
    "    cap = cv2.VideoCapture(videoFile)\n",
    "    frameRate = cap.get(5) #frame rate\n",
    "    userId = mp4file.split('/')[-1].split('_')[0]\n",
    "    # print(\"userid:\", mp4file.split('/')[-1].split('_')[0])\n",
    "    # print(\"frame Rate: \", frameRate)\n",
    "    # print(\"capture is opened: \", cap.isOpened())\n",
    "    # print(\"condtion:\", mp4file.split('_')[-1][0])\n",
    "    # print(\"condtion:\", condition)\n",
    "    count_B_A2, count_B = extractImages(userId, count_B_A2, count_B)\n",
    "    # print('%%%%%%%%% ' + mp4file + ' %%%%%%%%%%%')\n",
    "    print('amount of count_B_A1 '+ str(count_B_A1), 'amount of B: ' + str(count_B))\n",
    "    \n",
    "print(\"done!!!!!\")"
   ]
  },
  {
   "cell_type": "markdown",
   "id": "a3ac5aaf-cce6-4336-9a45-5713a29f57d7",
   "metadata": {},
   "source": [
    "### Aligned Facial Frame \n",
    "only for head-pose you have to do aligned facial first. "
   ]
  },
  {
   "cell_type": "code",
   "execution_count": 1,
   "id": "6622e83e-84ca-47a6-ba0d-af7dd40f091b",
   "metadata": {},
   "outputs": [],
   "source": [
    "task = 'part2'\n",
    "condition='A2_B'"
   ]
  },
  {
   "cell_type": "code",
   "execution_count": null,
   "id": "d2988bb5-609e-461e-ad57-542bfc3c1e8b",
   "metadata": {},
   "outputs": [],
   "source": [
    "folderpath = '/media/nali/Seagate Portable Drive/5_HRIStudy2_FrameData/face/' + task + '/condition_' + condition + '/'"
   ]
  },
  {
   "cell_type": "code",
   "execution_count": null,
   "id": "0d08a609-adeb-4789-8cfd-8ca134ec27eb",
   "metadata": {},
   "outputs": [],
   "source": [
    "targetpath = '/media/nali/Seagate Portable Drive/5_HRIStudy2_FrameData/face_alignment/' + task + '/condition_' + condition + '/'\n",
    "targetpath"
   ]
  },
  {
   "cell_type": "code",
   "execution_count": null,
   "id": "07390b33-cf28-4115-bf06-1bfdc8f3218e",
   "metadata": {},
   "outputs": [],
   "source": [
    "allfiles = countfiles(folderpath, '.jpg')"
   ]
  },
  {
   "cell_type": "code",
   "execution_count": null,
   "id": "708443df-1345-4d4a-ae44-7029bc649cd3",
   "metadata": {},
   "outputs": [],
   "source": [
    "# allfiles = os.listdir(folderpath)\n",
    "# files = [ fname for fname in allfiles if fname.endswith('.jpg')]\n",
    "# print(files[:10])"
   ]
  },
  {
   "cell_type": "code",
   "execution_count": null,
   "id": "20bba54a-c62a-4b50-b5b6-8d99c1491177",
   "metadata": {},
   "outputs": [],
   "source": [
    "failedalign_count = 0\n",
    "align_count = 0\n",
    "for fname in files:\n",
    "    fpath = folderpath + fname\n",
    "    frame_bgr=cv2.imread(fpath)\n",
    "    frame = cv2.cvtColor(frame_bgr, cv2.COLOR_BGR2RGB)\n",
    "    bounding_boxes, points = imgProcessing.detect_faces(frame)\n",
    "    points = points.T\n",
    "    for bbox,p in zip(bounding_boxes, points):\n",
    "        box = bbox.astype(np.int64)\n",
    "        x1,y1,x2,y2=box[0:4]    \n",
    "        face_img=frame[y1:y2,x1:x2,:]\n",
    "        try:\n",
    "            fname = task+ '_faceAlign_' + fname\n",
    "            # print(fname)\n",
    "            face_img=cv2.resize(face_img,INPUT_SIZE)\n",
    "            plt.imsave(targetpath + fname ,face_img)\n",
    "        except:\n",
    "            print(fpath)\n",
    "            failedalign_count += 1\n",
    "        align_count += 1\n",
    "print('faild face alignment for condition A2_B amount:', failedalign_count)\n",
    "print('face alignment for condition A2_B amount:', align_count)"
   ]
  },
  {
   "cell_type": "markdown",
   "id": "d363c658-285e-41f9-8233-16ba5eae62ed",
   "metadata": {},
   "source": [
    "### Audio Data extraction"
   ]
  },
  {
   "cell_type": "code",
   "execution_count": null,
   "id": "809c2b81-d045-49f2-afd2-979eda98a48c",
   "metadata": {},
   "outputs": [],
   "source": [
    "import os\n",
    "import subprocess\n",
    "import sys"
   ]
  },
  {
   "cell_type": "code",
   "execution_count": null,
   "id": "fc96c4c8-3c26-4cf9-a96a-ba370709de32",
   "metadata": {},
   "outputs": [],
   "source": [
    "rootpath = '/media/nali/Seagate Portable Drive/4_HRIStudy2_Conditions_groupby/TasksGroupBy/part2/face/68/'\n",
    "rootpath"
   ]
  },
  {
   "cell_type": "code",
   "execution_count": null,
   "id": "7b958ccc-d919-4004-9474-a3c4ad637db5",
   "metadata": {},
   "outputs": [],
   "source": [
    "targetpath = '/media/nali/Seagate Portable Drive/6_HRIStudy2_audioData/part2/condition_A1_B/'"
   ]
  },
  {
   "cell_type": "code",
   "execution_count": null,
   "id": "c6dd6eaa-41fc-4168-8390-e820672d2a93",
   "metadata": {},
   "outputs": [],
   "source": [
    "def convert_video_to_audio_ffmeg_flac(video_file, targetpath, output_ext=\"flac\"):\n",
    "    video_file_name = rootpath + video_file\n",
    "    print(video_file_name)\n",
    "    filename, ext = os.path.splitext(video_file)\n",
    "    # filename_new = '/media/nali/Seagate Portable Drive/6_HRIStudy2_audioData/part2/condition_A1_beforehelp_flac/' + filename.split('.')[0]\n",
    "    filename_new = targetpath + filename.split('.')[0]\n",
    "    print(filename_new)\n",
    "    subprocess.call([\"ffmpeg\", \"-y\", \"-i\", video_file_name, f\"{filename_new}.{output_ext}\"],\n",
    "                   stdout=subprocess.DEVNULL,\n",
    "                   stderr=subprocess.STDOUT)"
   ]
  },
  {
   "cell_type": "code",
   "execution_count": null,
   "id": "1187cd21-3ddc-4569-9886-02e778b74b24",
   "metadata": {},
   "outputs": [],
   "source": [
    "def convert_video_to_audio_ffmeg(video_file, targetpath, output_ext=\"mp3\"):\n",
    "    video_file_name = rootpath + video_file\n",
    "    print(video_file_name)\n",
    "    filename, ext = os.path.splitext(video_file)\n",
    "    filename_new = targetpath + filename.split('.')[0]\n",
    "    print(filename_new)\n",
    "    subprocess.call([\"ffmpeg\", \"-y\", \"-i\", video_file_name, f\"{filename_new}.{output_ext}\"],\n",
    "                   stdout=subprocess.DEVNULL,\n",
    "                   stderr=subprocess.STDOUT)"
   ]
  },
  {
   "cell_type": "code",
   "execution_count": null,
   "id": "b4bb5b2c-21f7-4a52-92f9-7a48e1d0c6d9",
   "metadata": {},
   "outputs": [],
   "source": [
    "allfiles = countfiles(rootpath, '.mp4')"
   ]
  },
  {
   "cell_type": "code",
   "execution_count": null,
   "id": "f6d37564-2d32-4d5c-812e-ecc3381220e8",
   "metadata": {},
   "outputs": [],
   "source": [
    "# mp3 files extraction\n",
    "for video in files:\n",
    "    file_name = video\n",
    "    convert_video_to_audio_ffmeg(file_name)\n",
    "print(\"done!\")"
   ]
  },
  {
   "cell_type": "markdown",
   "id": "bf9063ac-371b-4453-9f1f-6a38fd69efbd",
   "metadata": {},
   "source": []
  }
 ],
 "metadata": {
  "kernelspec": {
   "display_name": "Python 3 (ipykernel)",
   "language": "python",
   "name": "python3"
  },
  "language_info": {
   "codemirror_mode": {
    "name": "ipython",
    "version": 3
   },
   "file_extension": ".py",
   "mimetype": "text/x-python",
   "name": "python",
   "nbconvert_exporter": "python",
   "pygments_lexer": "ipython3",
   "version": "3.8.10"
  }
 },
 "nbformat": 4,
 "nbformat_minor": 5
}
